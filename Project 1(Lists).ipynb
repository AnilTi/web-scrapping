{
 "cells": [
  {
   "cell_type": "code",
   "execution_count": 3,
   "metadata": {},
   "outputs": [
    {
     "name": "stdout",
     "output_type": "stream",
     "text": [
      "Please choose any one option:\n",
      "1. To view student list\n",
      "2. To add new elements to the list\n",
      "3. To remove the data\n",
      "4. To search data\n",
      "5. Exit\n",
      "Enter your choice: 3\n",
      "Enter the data to be removed: Sonam\n"
     ]
    },
    {
     "ename": "NameError",
     "evalue": "name 'new_list' is not defined",
     "output_type": "error",
     "traceback": [
      "\u001b[1;31m---------------------------------------------------------------------------\u001b[0m",
      "\u001b[1;31mNameError\u001b[0m                                 Traceback (most recent call last)",
      "\u001b[1;32mC:\\Users\\MONUSA~1\\AppData\\Local\\Temp/ipykernel_6432/3286647105.py\u001b[0m in \u001b[0;36m<module>\u001b[1;34m\u001b[0m\n\u001b[0;32m     31\u001b[0m     \u001b[1;32melif\u001b[0m \u001b[0mr\u001b[0m\u001b[1;33m==\u001b[0m\u001b[1;36m3\u001b[0m\u001b[1;33m:\u001b[0m\u001b[1;33m\u001b[0m\u001b[1;33m\u001b[0m\u001b[0m\n\u001b[0;32m     32\u001b[0m         \u001b[0mrem\u001b[0m\u001b[1;33m=\u001b[0m\u001b[0minput\u001b[0m\u001b[1;33m(\u001b[0m\u001b[1;34m'Enter the data to be removed: '\u001b[0m\u001b[1;33m)\u001b[0m\u001b[1;33m\u001b[0m\u001b[1;33m\u001b[0m\u001b[0m\n\u001b[1;32m---> 33\u001b[1;33m         \u001b[1;32mif\u001b[0m \u001b[0mlen\u001b[0m\u001b[1;33m(\u001b[0m\u001b[0mnew_list\u001b[0m\u001b[1;33m)\u001b[0m\u001b[1;33m>\u001b[0m\u001b[1;36m0\u001b[0m\u001b[1;33m:\u001b[0m\u001b[1;33m\u001b[0m\u001b[1;33m\u001b[0m\u001b[0m\n\u001b[0m\u001b[0;32m     34\u001b[0m             \u001b[1;32mtry\u001b[0m\u001b[1;33m:\u001b[0m\u001b[1;33m\u001b[0m\u001b[1;33m\u001b[0m\u001b[0m\n\u001b[0;32m     35\u001b[0m                 \u001b[0ms\u001b[0m\u001b[1;33m.\u001b[0m\u001b[0mremove\u001b[0m\u001b[1;33m(\u001b[0m\u001b[0mrem\u001b[0m\u001b[1;33m)\u001b[0m\u001b[1;33m\u001b[0m\u001b[1;33m\u001b[0m\u001b[0m\n",
      "\u001b[1;31mNameError\u001b[0m: name 'new_list' is not defined"
     ]
    }
   ],
   "source": [
    "y=['1. To view student list','2. To add new elements to the list','3. To remove the data','4. To search data','5. Exit']\n",
    "print('Please choose any one option:')\n",
    "for i in y:\n",
    "        print(i)\n",
    "while True:\n",
    "    r=int(input('Enter your choice: '))\n",
    "    s=['Shanti','Sonam','Ashish']\n",
    "    if r==1:\n",
    "        for i in s:\n",
    "            print(i)\n",
    "        c=input(\" Do u Continue this (y/n):\")\n",
    "        if c=='y':\n",
    "            continue\n",
    "        elif c=='n':\n",
    "            break\n",
    "        else:\n",
    "            print('invalid statement')\n",
    "    elif r==2:\n",
    "        p=int(input('Enter the number of elment in list: '))\n",
    "        for j in range(p):\n",
    "            element=input('Enter the element: ')\n",
    "            s.append(element)\n",
    "        print(s)\n",
    "        c=input(\" Do u Continue this (y/n):\")\n",
    "        if c=='y':\n",
    "            continue\n",
    "        elif c=='n':\n",
    "            break\n",
    "        else:\n",
    "            print('invalid statement')\n",
    "    elif r==3:\n",
    "        rem=input('Enter the data to be removed: ')\n",
    "        if len(new_list)>0:\n",
    "            try:\n",
    "                s.remove(rem)\n",
    "                print(s)\n",
    "            except ValueError as ex:\n",
    "                print('Element not in the list')\n",
    "        elif len(s)>0:\n",
    "            try:\n",
    "                s.remove(rem)\n",
    "                print(s)\n",
    "            except ValueError as ex:\n",
    "                 print('Element not in the list')\n",
    "        c=input(\" Do u Continue this (y/n):\")\n",
    "        if c=='y':\n",
    "            continue\n",
    "        elif c=='n':\n",
    "            break\n",
    "        else:\n",
    "            print('invalid statement')\n",
    "    elif r==4:\n",
    "        j=input('Element to be searched: ')\n",
    "        for u in range(len(s)):\n",
    "            if j==s[u]:\n",
    "                print(f'It is present in list at {u} index')\n",
    "        c=input(\" Do u Continue this (y/n):\")\n",
    "        if c=='y':\n",
    "            continue\n",
    "        elif c=='n':\n",
    "            break\n",
    "        else:\n",
    "            print('invalid statement')\n",
    "    elif r==5:\n",
    "        print('Exit')\n",
    "        break\n",
    "    else:\n",
    "        print('invalid statement')"
   ]
  },
  {
   "cell_type": "code",
   "execution_count": null,
   "metadata": {},
   "outputs": [],
   "source": []
  },
  {
   "cell_type": "code",
   "execution_count": null,
   "metadata": {},
   "outputs": [],
   "source": []
  }
 ],
 "metadata": {
  "kernelspec": {
   "display_name": "Python 3 (ipykernel)",
   "language": "python",
   "name": "python3"
  },
  "language_info": {
   "codemirror_mode": {
    "name": "ipython",
    "version": 3
   },
   "file_extension": ".py",
   "mimetype": "text/x-python",
   "name": "python",
   "nbconvert_exporter": "python",
   "pygments_lexer": "ipython3",
   "version": "3.9.7"
  }
 },
 "nbformat": 4,
 "nbformat_minor": 4
}
